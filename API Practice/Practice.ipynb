{
 "cells": [
  {
   "cell_type": "code",
   "execution_count": 1,
   "metadata": {},
   "outputs": [],
   "source": [
    "import requests\n",
    "import json"
   ]
  },
  {
   "cell_type": "code",
   "execution_count": 56,
   "metadata": {},
   "outputs": [
    {
     "name": "stdout",
     "output_type": "stream",
     "text": [
      "https://api.openweathermap.org/data/2.5/weather?q=malang&appid=5508c04575be5ab1e429bdef49c1bf4d\n",
      "200\n"
     ]
    }
   ],
   "source": [
    "key = \"5508c04575be5ab1e429bdef49c1bf4d\"\n",
    "\n",
    "city=\"malang\"\n",
    "zip = \"65142\"\n",
    "units =\"imperial\"\n",
    "\n",
    "#appid is my api key, its kinda like password\n",
    "\n",
    "url = \"https://api.openweathermap.org/data/2.5/weather?\" + \"q=\" + city + \"&appid=\" + key\n",
    "\n",
    "print(url)\n",
    "r = requests.get(url)\n",
    "print(r.status_code)"
   ]
  },
  {
   "cell_type": "code",
   "execution_count": 58,
   "metadata": {},
   "outputs": [],
   "source": [
    "data = r.json()"
   ]
  },
  {
   "cell_type": "code",
   "execution_count": 59,
   "metadata": {},
   "outputs": [
    {
     "name": "stdout",
     "output_type": "stream",
     "text": [
      "{\n",
      "          \"base\": \"stations\",\n",
      "          \"clouds\": {\n",
      "                    \"all\": 20\n",
      "          },\n",
      "          \"cod\": 200,\n",
      "          \"coord\": {\n",
      "                    \"lat\": -7.9797,\n",
      "                    \"lon\": 112.6304\n",
      "          },\n",
      "          \"dt\": 1619887790,\n",
      "          \"id\": 1636722,\n",
      "          \"main\": {\n",
      "                    \"feels_like\": 305.72,\n",
      "                    \"humidity\": 83,\n",
      "                    \"pressure\": 1010,\n",
      "                    \"temp\": 301.15,\n",
      "                    \"temp_max\": 301.15,\n",
      "                    \"temp_min\": 301.15\n",
      "          },\n",
      "          \"name\": \"Malang\",\n",
      "          \"sys\": {\n",
      "                    \"country\": \"ID\",\n",
      "                    \"id\": 9363,\n",
      "                    \"sunrise\": 1619821900,\n",
      "                    \"sunset\": 1619864480,\n",
      "                    \"type\": 1\n",
      "          },\n",
      "          \"timezone\": 25200,\n",
      "          \"visibility\": 5000,\n",
      "          \"weather\": [\n",
      "                    {\n",
      "                              \"description\": \"haze\",\n",
      "                              \"icon\": \"50n\",\n",
      "                              \"id\": 721,\n",
      "                              \"main\": \"Haze\"\n",
      "                    }\n",
      "          ],\n",
      "          \"wind\": {\n",
      "                    \"deg\": 80,\n",
      "                    \"speed\": 3.09\n",
      "          }\n",
      "}\n"
     ]
    }
   ],
   "source": [
    "print(json.dumps(data, sort_keys=True, indent=10))"
   ]
  },
  {
   "cell_type": "code",
   "execution_count": null,
   "metadata": {},
   "outputs": [],
   "source": []
  },
  {
   "cell_type": "code",
   "execution_count": null,
   "metadata": {},
   "outputs": [],
   "source": []
  }
 ],
 "metadata": {
  "kernelspec": {
   "display_name": "Python 3",
   "language": "python",
   "name": "python3"
  },
  "language_info": {
   "codemirror_mode": {
    "name": "ipython",
    "version": 3
   },
   "file_extension": ".py",
   "mimetype": "text/x-python",
   "name": "python",
   "nbconvert_exporter": "python",
   "pygments_lexer": "ipython3",
   "version": "3.8.5"
  }
 },
 "nbformat": 4,
 "nbformat_minor": 4
}
