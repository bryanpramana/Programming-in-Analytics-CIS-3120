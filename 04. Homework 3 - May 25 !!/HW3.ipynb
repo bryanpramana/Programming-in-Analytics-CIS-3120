{
 "cells": [
  {
   "cell_type": "code",
   "execution_count": 2,
   "metadata": {},
   "outputs": [],
   "source": [
    "import requests\n",
    "import json"
   ]
  },
  {
   "cell_type": "code",
   "execution_count": 3,
   "metadata": {},
   "outputs": [
    {
     "name": "stdout",
     "output_type": "stream",
     "text": [
      "           City  Status  Temperature  Humidity  Wind Speed  Visibility\n",
      "0      Surabaya  Clouds       299.12        94        2.15        5000\n",
      "1        Malang  Clouds       296.24        73        0.94       10000\n",
      "2       Jakarta  Clouds       300.00        85        1.54        2000\n",
      "3          Bali  Clouds       299.69        84        2.78       10000\n",
      "4        Bekasi  Clouds       299.13       100        2.99        2000\n",
      "5         Medan  Clouds       298.17        94        1.54        4500\n",
      "6      New York   Clear       294.47        67        0.89       10000\n",
      "7   Los Angeles   Clear       299.54        41        1.54       10000\n",
      "8        Boston  Clouds       293.66        61        4.02       10000\n",
      "9       Florida   Clear       300.19        75        4.16       10000\n",
      "10        Texas  Clouds       303.12        48        6.13       10000\n",
      "11       Oregon  Clouds       282.92        49        7.57       10000\n",
      "       Temperature    Humidity  Wind Speed    Visibility\n",
      "count     6.000000    6.000000    6.000000      6.000000\n",
      "mean    298.725000   88.333333    1.990000   5583.333333\n",
      "std       1.368221    9.647107    0.794632   3638.910093\n",
      "min     296.240000   73.000000    0.940000   2000.000000\n",
      "25%     298.407500   84.250000    1.540000   2625.000000\n",
      "50%     299.125000   89.500000    1.845000   4750.000000\n",
      "75%     299.550000   94.000000    2.622500   8750.000000\n",
      "max     300.000000  100.000000    2.990000  10000.000000\n",
      "       Temperature   Humidity  Wind Speed  Visibility\n",
      "count     6.000000   6.000000    6.000000         6.0\n",
      "mean    295.650000  56.833333    4.051667     10000.0\n",
      "std       7.196527  12.967909    2.569649         0.0\n",
      "min     282.920000  41.000000    0.890000     10000.0\n",
      "25%     293.862500  48.250000    2.160000     10000.0\n",
      "50%     297.005000  55.000000    4.090000     10000.0\n",
      "75%     300.027500  65.500000    5.637500     10000.0\n",
      "max     303.120000  75.000000    7.570000     10000.0\n"
     ]
    }
   ],
   "source": [
    "#key is the subscription API key that has been given by the API platform\n",
    "key = \"5508c04575be5ab1e429bdef49c1bf4d\"\n",
    "\n",
    "#city is a list of city's name in 2 region,tropical country and non tropical country\n",
    "city = [\"surabaya\",\"malang\",\"jakarta\",\"bali\",\"bekasi\",\"medan\",\"new york\",\"los angeles\",\"boston\",\"florida\",\"texas\",\"oregon\"]\n",
    "\n",
    "City_Name= []\n",
    "Temperature= []\n",
    "Wind= []\n",
    "Status= []\n",
    "Humidity= []\n",
    "Visibility=[]\n",
    "\n",
    "# iteration to do multiple API request for every city listed\n",
    "for i in range(len(city)):\n",
    "    \n",
    "    #Access the url of weather API and set the parameter of the city\n",
    "    url = \"https://api.openweathermap.org/data/2.5/weather?\" + \"q=\" + city[i] + \"&appid=\" + key\n",
    "    r = requests.get(url)\n",
    "    \n",
    "    #get the json and stored it in the data variable\n",
    "    data =r.json()\n",
    "    #print(json.dumps(data, sort_keys=True, indent=10))\n",
    "    \n",
    "    #store the data into several list so we can create data frame\n",
    "    City_Name.append(data['name'])\n",
    "    Temperature.append(data['main']['temp'])\n",
    "    Humidity.append(data['main']['humidity'])\n",
    "    Status.append(data['weather'][0]['main'])\n",
    "    Wind.append(data['wind']['speed'])\n",
    "    Visibility.append(data['visibility'])\n",
    "\n",
    "#create dictionary for all of the list\n",
    "weather = {'City': City_Name ,'Status':Status,'Temperature': Temperature,'Humidity':Humidity,'Wind Speed':Wind,'Visibility':Visibility}\n",
    "\n",
    "import pandas as pd\n",
    "\n",
    "#create data frame based on the dictionary above\n",
    "weather_df = pd.DataFrame(weather)\n",
    "print (weather_df)\n",
    "\n",
    "#describe the city in tropical country by using head function\n",
    "#describe the city in nontropical country by using tail function\n",
    "print(weather_df.head(6).describe())\n",
    "print(weather_df.tail(6).describe())\n",
    "\n",
    "weather_df.to_csv (r'C:\\Users\\Bryan Pramana\\Desktop\\Baruch Spring 2021\\CIS 3120 - Programming Analytics\\04. Homework 3 - May 25 !!\\HW3.csv')\n",
    "#print (r.status_code)"
   ]
  },
  {
   "cell_type": "code",
   "execution_count": 26,
   "metadata": {},
   "outputs": [],
   "source": [
    " "
   ]
  },
  {
   "cell_type": "code",
   "execution_count": null,
   "metadata": {
    "scrolled": true
   },
   "outputs": [],
   "source": []
  },
  {
   "cell_type": "code",
   "execution_count": null,
   "metadata": {},
   "outputs": [],
   "source": [
    "  "
   ]
  },
  {
   "cell_type": "code",
   "execution_count": null,
   "metadata": {},
   "outputs": [],
   "source": []
  },
  {
   "cell_type": "code",
   "execution_count": null,
   "metadata": {},
   "outputs": [],
   "source": []
  }
 ],
 "metadata": {
  "kernelspec": {
   "display_name": "Python 3",
   "language": "python",
   "name": "python3"
  },
  "language_info": {
   "codemirror_mode": {
    "name": "ipython",
    "version": 3
   },
   "file_extension": ".py",
   "mimetype": "text/x-python",
   "name": "python",
   "nbconvert_exporter": "python",
   "pygments_lexer": "ipython3",
   "version": "3.8.5"
  }
 },
 "nbformat": 4,
 "nbformat_minor": 4
}
